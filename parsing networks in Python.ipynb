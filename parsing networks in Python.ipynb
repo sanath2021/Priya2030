{
 "cells": [
  {
   "cell_type": "code",
   "execution_count": 2,
   "metadata": {},
   "outputs": [],
   "source": [
    "import os\n",
    "import sys\n",
    "import numpy as np\n",
    "import pandas as pd\n",
    "import openmatrix as omx"
   ]
  },
  {
   "cell_type": "code",
   "execution_count": 3,
   "metadata": {},
   "outputs": [
    {
     "data": {
      "text/plain": [
       "'D:\\\\src\\\\TransportationNetworks'"
      ]
     },
     "execution_count": 3,
     "metadata": {},
     "output_type": "execute_result"
    }
   ],
   "source": [
    "# Assume you have not changed the relative paths after cloning the repository\n",
    "root = os.path.dirname(os.path.abspath('.'))\n",
    "root"
   ]
  },
  {
   "cell_type": "code",
   "execution_count": 4,
   "metadata": {},
   "outputs": [],
   "source": [
    "# We list all folders available, most of which are TNTP instances\n",
    "folders = [x for x in os.listdir(root)[1:] if os.path.isdir(os.path.join(root, x))]"
   ]
  },
  {
   "cell_type": "code",
   "execution_count": 5,
   "metadata": {
    "code_folding": [
     1
    ]
   },
   "outputs": [],
   "source": [
    "# Function to import OMX matrices\n",
    "def import_matrix(matfile):\n",
    "    f = open(matfile, 'r')\n",
    "    all_rows = f.read()\n",
    "    blocks = all_rows.split('Origin')[1:]\n",
    "    matrix = {}\n",
    "    for k in range(len(blocks)):\n",
    "        orig = blocks[k].split('\\n')\n",
    "        dests = orig[1:]\n",
    "        orig=int(orig[0])\n",
    "\n",
    "        d = [eval('{'+a.replace(';',',').replace(' ','') +'}') for a in dests]\n",
    "        destinations = {}\n",
    "        for i in d:\n",
    "            destinations = {**destinations, **i}\n",
    "        matrix[orig] = destinations\n",
    "    zones = max(matrix.keys())\n",
    "    mat = np.zeros((zones, zones))\n",
    "    for i in range(zones):\n",
    "        for j in range(zones):\n",
    "            # We map values to a index i-1, as Numpy is base 0\n",
    "            mat[i, j] = matrix.get(i+1,{}).get(j+1,0)\n",
    "\n",
    "    index = np.arange(zones) + 1\n",
    "\n",
    "    myfile = omx.open_file('demand.omx','w')\n",
    "    myfile['matrix'] = mat\n",
    "    myfile.create_mapping('taz', index)\n",
    "    myfile.close()"
   ]
  },
  {
   "cell_type": "code",
   "execution_count": 7,
   "metadata": {
    "scrolled": true
   },
   "outputs": [
    {
     "name": "stdout",
     "output_type": "stream",
     "text": [
      "ANAHEIM\n",
      "    trips\n",
      "AUSTIN\n",
      "    trips\n",
      "BARCELONA\n",
      "    trips\n",
      "BERLIN-CENTER\n",
      "    trips\n",
      "BERLIN-FRIEDRICHSHAIN\n",
      "    trips\n",
      "BERLIN-MITTE-CENTER\n",
      "    trips\n",
      "BERLIN-MITTE-PRENZLAUERBERG-FRIEDRICHSHAIN-CENTER\n",
      "    trips\n",
      "BERLIN-PRENZLAUERBERG-CENTER\n",
      "    trips\n",
      "BERLIN-TIERGARTEN\n",
      "    trips\n",
      "BIRMINGHAM-ENGLAND\n",
      "    trips\n",
      "BRAESS-EXAMPLE\n",
      "    trips\n",
      "CHICAGO-SKETCH\n",
      "    trips\n",
      "EASTERN-MASSACHUSETTS\n",
      "    trips\n",
      "GOLDCOAST\n",
      "    trips\n",
      "HESSEN-ASYMMETRIC\n",
      "    trips\n",
      "PHILADELPHIA\n",
      "    trips\n",
      "SIOUXFALLS\n",
      "    trips\n",
      "SYDNEY\n",
      "SYMMETRICATESTCASE\n",
      "TERRASSA-ASYMMETRIC\n",
      "    trips\n",
      "WINNIPEG-ASYMMETRIC\n",
      "    trips\n",
      "WINNIPEG\n",
      "    trips\n",
      "CHICAGO-REGIONAL\n",
      "    trips\n",
      "_SCRIPTS\n"
     ]
    }
   ],
   "source": [
    "# If we want to import all matrices in place\n",
    "for f in folders:\n",
    "    mod = os.path.join(root, f)\n",
    "    mod_files = os.listdir(mod)\n",
    "\n",
    "    for i in mod_files:\n",
    "        print(f.upper())\n",
    "        if 'TRIPS' in i.upper() and i.lower()[-5:]=='.tntp':\n",
    "            print('    trips')\n",
    "            source_file = os.path.join(mod, i)\n",
    "            import_matrix(source_file)"
   ]
  },
  {
   "cell_type": "code",
   "execution_count": 11,
   "metadata": {},
   "outputs": [],
   "source": [
    "# Importing the networks into a Pandas dataframe consists of a single line of code\n",
    "# but we can also make sure all headers are lower case and without trailing spaces\n",
    "\n",
    "netfile = os.path.join(root, 'Anaheim','Anaheim_net.tntp')\n",
    "net = pd.read_csv(netfile, skiprows=8, sep='\\t')\n",
    "\n",
    "trimmed= [s.strip().lower() for s in net.columns]\n",
    "net.columns = trimmed\n",
    "\n",
    "# And drop the silly first andlast columns\n",
    "net.drop(['~', ';'], axis=1, inplace=True)"
   ]
  },
  {
   "cell_type": "code",
   "execution_count": 24,
   "metadata": {},
   "outputs": [
    {
     "data": {
      "text/html": [
       "<div>\n",
       "<style scoped>\n",
       "    .dataframe tbody tr th:only-of-type {\n",
       "        vertical-align: middle;\n",
       "    }\n",
       "\n",
       "    .dataframe tbody tr th {\n",
       "        vertical-align: top;\n",
       "    }\n",
       "\n",
       "    .dataframe thead th {\n",
       "        text-align: right;\n",
       "    }\n",
       "</style>\n",
       "<table border=\"1\" class=\"dataframe\">\n",
       "  <thead>\n",
       "    <tr style=\"text-align: right;\">\n",
       "      <th></th>\n",
       "      <th>init_node</th>\n",
       "      <th>term_node</th>\n",
       "      <th>capacity</th>\n",
       "      <th>length</th>\n",
       "      <th>free_flow_time</th>\n",
       "      <th>b</th>\n",
       "      <th>power</th>\n",
       "      <th>speed</th>\n",
       "      <th>toll</th>\n",
       "      <th>link_type</th>\n",
       "      <th>;</th>\n",
       "    </tr>\n",
       "  </thead>\n",
       "  <tbody>\n",
       "    <tr>\n",
       "      <th>0</th>\n",
       "      <td>1</td>\n",
       "      <td>117</td>\n",
       "      <td>9000</td>\n",
       "      <td>5280</td>\n",
       "      <td>1.090458</td>\n",
       "      <td>0.15</td>\n",
       "      <td>4</td>\n",
       "      <td>4842</td>\n",
       "      <td>0</td>\n",
       "      <td>1</td>\n",
       "      <td>;</td>\n",
       "    </tr>\n",
       "    <tr>\n",
       "      <th>1</th>\n",
       "      <td>2</td>\n",
       "      <td>87</td>\n",
       "      <td>9000</td>\n",
       "      <td>5280</td>\n",
       "      <td>1.090458</td>\n",
       "      <td>0.15</td>\n",
       "      <td>4</td>\n",
       "      <td>4842</td>\n",
       "      <td>0</td>\n",
       "      <td>1</td>\n",
       "      <td>;</td>\n",
       "    </tr>\n",
       "    <tr>\n",
       "      <th>2</th>\n",
       "      <td>3</td>\n",
       "      <td>74</td>\n",
       "      <td>9000</td>\n",
       "      <td>5280</td>\n",
       "      <td>1.090458</td>\n",
       "      <td>0.15</td>\n",
       "      <td>4</td>\n",
       "      <td>4842</td>\n",
       "      <td>0</td>\n",
       "      <td>1</td>\n",
       "      <td>;</td>\n",
       "    </tr>\n",
       "    <tr>\n",
       "      <th>3</th>\n",
       "      <td>4</td>\n",
       "      <td>233</td>\n",
       "      <td>9000</td>\n",
       "      <td>5280</td>\n",
       "      <td>1.090458</td>\n",
       "      <td>0.15</td>\n",
       "      <td>4</td>\n",
       "      <td>4842</td>\n",
       "      <td>0</td>\n",
       "      <td>1</td>\n",
       "      <td>;</td>\n",
       "    </tr>\n",
       "    <tr>\n",
       "      <th>4</th>\n",
       "      <td>5</td>\n",
       "      <td>165</td>\n",
       "      <td>9000</td>\n",
       "      <td>5280</td>\n",
       "      <td>1.090458</td>\n",
       "      <td>0.15</td>\n",
       "      <td>4</td>\n",
       "      <td>4842</td>\n",
       "      <td>0</td>\n",
       "      <td>1</td>\n",
       "      <td>;</td>\n",
       "    </tr>\n",
       "  </tbody>\n",
       "</table>\n",
       "</div>"
      ],
      "text/plain": [
       "   init_node  term_node  capacity  length  free_flow_time     b  power  speed  \\\n",
       "0          1        117      9000    5280        1.090458  0.15      4   4842   \n",
       "1          2         87      9000    5280        1.090458  0.15      4   4842   \n",
       "2          3         74      9000    5280        1.090458  0.15      4   4842   \n",
       "3          4        233      9000    5280        1.090458  0.15      4   4842   \n",
       "4          5        165      9000    5280        1.090458  0.15      4   4842   \n",
       "\n",
       "   toll  link_type  ;  \n",
       "0     0          1  ;  \n",
       "1     0          1  ;  \n",
       "2     0          1  ;  \n",
       "3     0          1  ;  \n",
       "4     0          1  ;  "
      ]
     },
     "execution_count": 24,
     "metadata": {},
     "output_type": "execute_result"
    }
   ],
   "source": [
    "net.head()"
   ]
  },
  {
   "cell_type": "code",
   "execution_count": 14,
   "metadata": {},
   "outputs": [
    {
     "data": {
      "text/plain": [
       "Index(['init_node', 'term_node', 'capacity', 'length', 'free_flow_time', 'b',\n",
       "       'power', 'speed', 'toll', 'link_type'],\n",
       "      dtype='object')"
      ]
     },
     "execution_count": 14,
     "metadata": {},
     "output_type": "execute_result"
    }
   ],
   "source": [
    "net.columns"
   ]
  }
 ],
 "metadata": {
  "kernelspec": {
   "display_name": "Python 3",
   "language": "python",
   "name": "python3"
  },
  "language_info": {
   "codemirror_mode": {
    "name": "ipython",
    "version": 3
   },
   "file_extension": ".py",
   "mimetype": "text/x-python",
   "name": "python",
   "nbconvert_exporter": "python",
   "pygments_lexer": "ipython3",
   "version": "3.7.4"
  }
 },
 "nbformat": 4,
 "nbformat_minor": 4
}
